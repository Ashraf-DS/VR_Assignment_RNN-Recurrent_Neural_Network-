{
  "nbformat": 4,
  "nbformat_minor": 0,
  "metadata": {
    "colab": {
      "name": "edgement_2_ii.ipynb",
      "provenance": []
    },
    "kernelspec": {
      "name": "python3",
      "display_name": "Python 3"
    },
    "language_info": {
      "name": "python"
    }
  },
  "cells": [
    {
      "cell_type": "code",
      "execution_count": 689,
      "metadata": {
        "id": "Id4udt4WiCCO"
      },
      "outputs": [],
      "source": [
        "\n",
        "import torch\n",
        "from torch import nn\n",
        "import numpy as np\n",
        "import matplotlib.pyplot as plt\n"
      ]
    },
    {
      "cell_type": "code",
      "source": [
        "text = ['edgement']\n",
        "\n",
        "# Join all the sentences together and extract the unique characters from the combined sentences\n",
        "chars = set(''.join(text))\n",
        "\n",
        "# Creating a dictionary that maps integers to the characters\n",
        "int2char = dict(enumerate(chars))\n",
        "\n",
        "# Creating another dictionary that maps characters to integers\n",
        "char2int = {char: ind for ind, char in int2char.items()}"
      ],
      "metadata": {
        "id": "5KQbVNQTrwii"
      },
      "execution_count": 690,
      "outputs": []
    },
    {
      "cell_type": "code",
      "source": [
        "int2char.items()"
      ],
      "metadata": {
        "colab": {
          "base_uri": "https://localhost:8080/"
        },
        "id": "poqFgo3PsIyQ",
        "outputId": "4d03e59f-0b33-45b5-f868-b00c19dbf221"
      },
      "execution_count": 691,
      "outputs": [
        {
          "output_type": "execute_result",
          "data": {
            "text/plain": [
              "dict_items([(0, 'n'), (1, 't'), (2, 'g'), (3, 'm'), (4, 'd'), (5, 'e')])"
            ]
          },
          "metadata": {},
          "execution_count": 691
        }
      ]
    },
    {
      "cell_type": "code",
      "source": [
        "print(int2char)"
      ],
      "metadata": {
        "colab": {
          "base_uri": "https://localhost:8080/"
        },
        "id": "Sl_FDNqlsLmB",
        "outputId": "fa234414-61ea-494c-d5c8-1749d070ce42"
      },
      "execution_count": 692,
      "outputs": [
        {
          "output_type": "stream",
          "name": "stdout",
          "text": [
            "{0: 'n', 1: 't', 2: 'g', 3: 'm', 4: 'd', 5: 'e'}\n"
          ]
        }
      ]
    },
    {
      "cell_type": "code",
      "source": [
        "len(char2int)"
      ],
      "metadata": {
        "colab": {
          "base_uri": "https://localhost:8080/"
        },
        "id": "0k2DXJtSsXqm",
        "outputId": "948cfe44-00b5-44e5-bbfb-3be335202c6c"
      },
      "execution_count": 693,
      "outputs": [
        {
          "output_type": "execute_result",
          "data": {
            "text/plain": [
              "6"
            ]
          },
          "metadata": {},
          "execution_count": 693
        }
      ]
    },
    {
      "cell_type": "code",
      "source": [
        "maxlen = len(max(text, key=len))"
      ],
      "metadata": {
        "id": "TroTm9-4saVC"
      },
      "execution_count": 694,
      "outputs": []
    },
    {
      "cell_type": "code",
      "source": [
        "##### Creating the  lists that will hold our input and target sequences\n",
        "input_seq = []\n",
        "target_seq = []\n",
        "\n",
        "for i in range(len(text)):\n",
        "    # Remove the  last character for input sequence\n",
        "  input_seq.append(text[i][:-1])\n",
        "    \n",
        "    # Remove the first character for target sequence\n",
        "  target_seq.append(text[i][1:])\n",
        "\n",
        "  print(\"Input Sequence: {}\\nTarget Sequence: {}\".format(input_seq[i], target_seq[i]))"
      ],
      "metadata": {
        "colab": {
          "base_uri": "https://localhost:8080/"
        },
        "id": "kUGG6qZFs8aI",
        "outputId": "a9a18396-2f32-43b9-e916-8042d8cf682a"
      },
      "execution_count": 695,
      "outputs": [
        {
          "output_type": "stream",
          "name": "stdout",
          "text": [
            "Input Sequence: edgemen\n",
            "Target Sequence: dgement\n"
          ]
        }
      ]
    },
    {
      "cell_type": "code",
      "source": [
        "for i in range(len(text)):\n",
        "    input_seq[i] = [char2int[character] for character in input_seq[i]]\n",
        "    print(input_seq[i])\n",
        "    target_seq[i] = [char2int[character] for character in target_seq[i]]\n",
        "    print(target_seq[i])"
      ],
      "metadata": {
        "colab": {
          "base_uri": "https://localhost:8080/"
        },
        "id": "kUSDNlI1s9uG",
        "outputId": "45b8c1f9-249b-48b3-fd29-aba5d5e0e9fe"
      },
      "execution_count": 696,
      "outputs": [
        {
          "output_type": "stream",
          "name": "stdout",
          "text": [
            "[5, 4, 2, 5, 3, 5, 0]\n",
            "[4, 2, 5, 3, 5, 0, 1]\n"
          ]
        }
      ]
    },
    {
      "cell_type": "code",
      "source": [
        "for i in range(len(text)):\n",
        "    print(\"Input Sequence: {}\\nTarget Sequence: {}\".format(input_seq[i], target_seq[i]))"
      ],
      "metadata": {
        "colab": {
          "base_uri": "https://localhost:8080/"
        },
        "id": "Y5LFRflHtGOj",
        "outputId": "8d9f9e1a-6f6d-4a53-f6f9-f1da61a9e076"
      },
      "execution_count": 697,
      "outputs": [
        {
          "output_type": "stream",
          "name": "stdout",
          "text": [
            "Input Sequence: [5, 4, 2, 5, 3, 5, 0]\n",
            "Target Sequence: [4, 2, 5, 3, 5, 0, 1]\n"
          ]
        }
      ]
    },
    {
      "cell_type": "code",
      "source": [
        "dict_size = len(char2int)    ##########   Dictionary size :- The number of unique characters that we have in our text \n",
        "print(dict_size)\n",
        "seq_len = maxlen - 1         ##########   The length of the sequences that we are feeding into the model \n",
        "print(seq_len)\n",
        "batch_size = len(text)       ##########   The number of sentences that we defined and are going to feed into the model as a batch\n",
        "print(batch_size)\n"
      ],
      "metadata": {
        "colab": {
          "base_uri": "https://localhost:8080/"
        },
        "id": "CIVnumHatJJW",
        "outputId": "2fe9f92f-3843-44cf-aec4-f037112cb43f"
      },
      "execution_count": 698,
      "outputs": [
        {
          "output_type": "stream",
          "name": "stdout",
          "text": [
            "6\n",
            "7\n",
            "1\n"
          ]
        }
      ]
    },
    {
      "cell_type": "code",
      "source": [
        "dict_size = len(char2int)\n",
        "seq_len = maxlen - 1\n",
        "batch_size = len(text)\n",
        "\n",
        "def one_hot_encode(sequence, dict_size, seq_len, batch_size):\n",
        "    #######   Creating a multi-dimensional array of zeros with the desired output shape\n",
        "\n",
        "    \n",
        "    features = np.zeros((batch_size, seq_len, dict_size), dtype=np.float32)\n",
        "    print(features)\n",
        "    \n",
        "    ######### Replacing the 0 at the relevant character index with a 1 to represent that character\n",
        "\n",
        "\n",
        "    for i in range(batch_size):\n",
        "        for u in range(seq_len):\n",
        "            features[i, u, sequence[i][u]] = 1\n",
        "    return features"
      ],
      "metadata": {
        "id": "Y3QlqFkttSti"
      },
      "execution_count": 699,
      "outputs": []
    },
    {
      "cell_type": "code",
      "source": [
        "input_seq = one_hot_encode(input_seq, dict_size, seq_len, batch_size)"
      ],
      "metadata": {
        "colab": {
          "base_uri": "https://localhost:8080/"
        },
        "id": "evISPuvptu8i",
        "outputId": "af27f236-3dd8-4f44-b6c3-930eede5e605"
      },
      "execution_count": 700,
      "outputs": [
        {
          "output_type": "stream",
          "name": "stdout",
          "text": [
            "[[[0. 0. 0. 0. 0. 0.]\n",
            "  [0. 0. 0. 0. 0. 0.]\n",
            "  [0. 0. 0. 0. 0. 0.]\n",
            "  [0. 0. 0. 0. 0. 0.]\n",
            "  [0. 0. 0. 0. 0. 0.]\n",
            "  [0. 0. 0. 0. 0. 0.]\n",
            "  [0. 0. 0. 0. 0. 0.]]]\n"
          ]
        }
      ]
    },
    {
      "cell_type": "code",
      "source": [
        "print(input_seq)"
      ],
      "metadata": {
        "colab": {
          "base_uri": "https://localhost:8080/"
        },
        "id": "qNIYaMSyt1Cf",
        "outputId": "1e80fc46-3dcb-4aa4-88db-a86b7a028f54"
      },
      "execution_count": 701,
      "outputs": [
        {
          "output_type": "stream",
          "name": "stdout",
          "text": [
            "[[[0. 0. 0. 0. 0. 1.]\n",
            "  [0. 0. 0. 0. 1. 0.]\n",
            "  [0. 0. 1. 0. 0. 0.]\n",
            "  [0. 0. 0. 0. 0. 1.]\n",
            "  [0. 0. 0. 1. 0. 0.]\n",
            "  [0. 0. 0. 0. 0. 1.]\n",
            "  [1. 0. 0. 0. 0. 0.]]]\n"
          ]
        }
      ]
    },
    {
      "cell_type": "code",
      "source": [
        "######  we can now move the data from NumPy arrays to PyTorch's very own data structure that is  Torch Tensors.\n",
        "\n",
        "input_seq = torch.from_numpy(input_seq)  \n",
        "target_seq = torch.Tensor(target_seq)"
      ],
      "metadata": {
        "id": "ysTDT6Uluy2s"
      },
      "execution_count": 702,
      "outputs": []
    },
    {
      "cell_type": "code",
      "source": [
        ""
      ],
      "metadata": {
        "id": "zn3HuYTTu4Sw"
      },
      "execution_count": 702,
      "outputs": []
    },
    {
      "cell_type": "code",
      "source": [
        "class Model(nn.Module):\n",
        "    def __init__(self, input_size, output_size, hidden_dim, n_layers):\n",
        "        super(Model, self).__init__()\n",
        "\n",
        "        #### Defining some parameters\n",
        "        self.hidden_dim = hidden_dim\n",
        "        self.n_layers = n_layers\n",
        "\n",
        "        #### Defining the layers\n",
        "        ###  RNN Layer\n",
        "\n",
        "        self.rnn = nn.RNN(input_size, hidden_dim, n_layers, batch_first=True)\n",
        "\n",
        "        ### Fully connected layer\n",
        "        self.fc = nn.Linear(hidden_dim, output_size)\n",
        "    \n",
        "    def forward(self, x):   ######## defining the forward pass function\n",
        "        \n",
        "        batch_size = x.size(0)\n",
        "\n",
        "        ####### Initializing hidden state for first input using method defined below\n",
        "        hidden = self.init_hidden(batch_size)\n",
        "\n",
        "        #####  Passing in the input and hidden state into the model and obtaining outputs\n",
        "        out, hidden = self.rnn(x, hidden)\n",
        "        \n",
        "        ###### Reshaping the outputs such that it can be fit into the fully connected layer\n",
        "        out = out.contiguous().view(-1, self.hidden_dim)\n",
        "        out = self.fc(out)\n",
        "        \n",
        "        return out, hidden\n",
        "    \n",
        "    def init_hidden(self, batch_size):    #######  This basically creates a tensor of zeros in the shape of our hidden states.\n",
        "        ## This method generates the first hidden state of zeros which we will use in the forward pass\n",
        "        ## We will send the tensor holding the hidden state to the device we specified earlier as well\n",
        "        hidden = torch.zeros(self.n_layers, batch_size, self.hidden_dim)\n",
        "        return hidden"
      ],
      "metadata": {
        "id": "140hCFB2u9Ra"
      },
      "execution_count": 703,
      "outputs": []
    },
    {
      "cell_type": "code",
      "source": [
        "##### Instantiate   the model with hyperparameters\n",
        "model = Model(input_size=dict_size, output_size=dict_size, hidden_dim=5, n_layers=1)\n",
        "\n",
        "#### Defining the  hyperparameters\n",
        "\n",
        "n_epochs =100  ## number of epochs  ---------------------------------------------------------------\n",
        "\n",
        "###### Define Loss, Optimizer ######\n",
        "\n",
        "criterion = nn.CrossEntropyLoss()\n",
        "\n",
        "################################################ RmsProp  #########################################################\n",
        "\n",
        "optimizer = torch.optim.RMSprop(model.parameters(), lr=0.4,alpha = 0.50, eps=1e-18)\n",
        "# optimizer\n",
        "\n",
        "# optimizer = torch.optim.Adam(model.parameters(),lr=0.4,betas=(0.9,0.999),eps=1e-08,weight_decay=0,amsgrad=False)\n",
        "\n",
        "# optimizer = torch.optim.Adagrad(model.parameters(), lr=0.4,eps=1e-18)\n",
        "optimizer\n"
      ],
      "metadata": {
        "colab": {
          "base_uri": "https://localhost:8080/"
        },
        "id": "Gybr5VTlvBd5",
        "outputId": "d9a3459c-f11a-4df0-951d-626220e42e36"
      },
      "execution_count": 704,
      "outputs": [
        {
          "output_type": "execute_result",
          "data": {
            "text/plain": [
              "RMSprop (\n",
              "Parameter Group 0\n",
              "    alpha: 0.5\n",
              "    centered: False\n",
              "    eps: 1e-18\n",
              "    lr: 0.4\n",
              "    momentum: 0\n",
              "    weight_decay: 0\n",
              ")"
            ]
          },
          "metadata": {},
          "execution_count": 704
        }
      ]
    },
    {
      "cell_type": "code",
      "source": [
        "# Training Run\n",
        "all_losses_3 = [] ##### initializing list of all_losses to maintain all losses inside it .\n",
        "ep = []         #### initializing list ep to maintain all the corresponding epochs \n",
        "##total_loss = 0    # Reset every plot_every iters\n",
        "\n",
        "for epoch in range(1, n_epochs + 1):\n",
        "    optimizer.zero_grad() ######  Clears existing gradients from previous epoch\n",
        "    \n",
        "    output, hidden = model(input_seq)\n",
        "    loss = criterion(output, target_seq.view(-1).long())\n",
        "    loss.backward()     ######## Does backpropagation and calculates gradients\n",
        "    optimizer.step()    ######### Updates the weights accordingly\n",
        "    \n",
        "    \n",
        "    \n",
        "    if epoch%3 == 0:\n",
        "        print('Epoch: {}/{}.............'.format(epoch, n_epochs), end=' ')\n",
        "        print(\"Loss: {:.4f}\".format(loss.item()))\n",
        "        ep.append(epoch)\n",
        "        all_losses_3.append(loss)\n"
      ],
      "metadata": {
        "colab": {
          "base_uri": "https://localhost:8080/"
        },
        "id": "izNhIPVfvEyJ",
        "outputId": "1e809af8-09ac-47df-a870-051dc5b4c9a4"
      },
      "execution_count": 705,
      "outputs": [
        {
          "output_type": "stream",
          "name": "stdout",
          "text": [
            "Epoch: 3/100............. Loss: 1.8898\n",
            "Epoch: 6/100............. Loss: 0.4998\n",
            "Epoch: 9/100............. Loss: 0.3467\n",
            "Epoch: 12/100............. Loss: 0.1721\n",
            "Epoch: 15/100............. Loss: 0.0273\n",
            "Epoch: 18/100............. Loss: 0.0106\n",
            "Epoch: 21/100............. Loss: 0.2162\n",
            "Epoch: 24/100............. Loss: 0.0102\n",
            "Epoch: 27/100............. Loss: 0.0044\n",
            "Epoch: 30/100............. Loss: 0.0025\n",
            "Epoch: 33/100............. Loss: 0.0014\n",
            "Epoch: 36/100............. Loss: 0.0006\n",
            "Epoch: 39/100............. Loss: 0.0003\n",
            "Epoch: 42/100............. Loss: 0.0005\n",
            "Epoch: 45/100............. Loss: 0.0001\n",
            "Epoch: 48/100............. Loss: 0.0000\n",
            "Epoch: 51/100............. Loss: 0.0000\n",
            "Epoch: 54/100............. Loss: 0.0000\n",
            "Epoch: 57/100............. Loss: 0.0000\n",
            "Epoch: 60/100............. Loss: 0.0000\n",
            "Epoch: 63/100............. Loss: 0.0000\n",
            "Epoch: 66/100............. Loss: 0.0000\n",
            "Epoch: 69/100............. Loss: 0.0000\n",
            "Epoch: 72/100............. Loss: 0.0002\n",
            "Epoch: 75/100............. Loss: 0.0000\n",
            "Epoch: 78/100............. Loss: 0.0000\n",
            "Epoch: 81/100............. Loss: 0.0000\n",
            "Epoch: 84/100............. Loss: 0.0000\n",
            "Epoch: 87/100............. Loss: 0.0000\n",
            "Epoch: 90/100............. Loss: 0.0000\n",
            "Epoch: 93/100............. Loss: 0.0000\n",
            "Epoch: 96/100............. Loss: 0.0000\n",
            "Epoch: 99/100............. Loss: 0.0000\n"
          ]
        }
      ]
    },
    {
      "cell_type": "code",
      "source": [
        "# This function takes in the model and character as arguments and returns the next character prediction and hidden state\n",
        "def predict(model, character):\n",
        "    ##### One-hot encoding our input to fit into the model\n",
        "    character = np.array([[char2int[c] for c in character]])\n",
        "    character = one_hot_encode(character, dict_size, character.shape[1], 1)\n",
        "    character = torch.from_numpy(character)\n",
        "    \n",
        "    \n",
        "    out, hidden = model(character)\n",
        "\n",
        "    prob = nn.functional.softmax(out[-1], dim=0).data\n",
        "    \n",
        "    #### Taking the class with the highest probability score from the output\n",
        "    char_ind = torch.max(prob, dim=0)[1].item()\n",
        "\n",
        "    return int2char[char_ind], hidden"
      ],
      "metadata": {
        "id": "KHGoDDkevJpT"
      },
      "execution_count": 706,
      "outputs": []
    },
    {
      "cell_type": "code",
      "source": [
        "##### This  output function takes the desired output length and input characters as arguments and returns the produced word\n",
        "\n",
        "def output(model, out_len, start):\n",
        "    model.eval() \n",
        "\n",
        "    ##### First off, run through the starting characters\n",
        "    chars = [ch for ch in start]\n",
        "    size = out_len - len(chars)\n",
        "    \n",
        "    ##### Now pass in the previous characters and get a new one\n",
        "    for i in range(size):\n",
        "        char, h = predict(model, chars)\n",
        "        chars.append(char)\n",
        "\n",
        "    return ''.join(chars)"
      ],
      "metadata": {
        "id": "e1hEFM0QvNWO"
      },
      "execution_count": 707,
      "outputs": []
    },
    {
      "cell_type": "code",
      "source": [
        "output(model, 8, 'e')"
      ],
      "metadata": {
        "colab": {
          "base_uri": "https://localhost:8080/",
          "height": 521
        },
        "id": "pn_0shnKvVcU",
        "outputId": "78568075-dafd-4ab6-82c7-b2e98c3fec40"
      },
      "execution_count": 708,
      "outputs": [
        {
          "output_type": "stream",
          "name": "stdout",
          "text": [
            "[[[0. 0. 0. 0. 0. 0.]]]\n",
            "[[[0. 0. 0. 0. 0. 0.]\n",
            "  [0. 0. 0. 0. 0. 0.]]]\n",
            "[[[0. 0. 0. 0. 0. 0.]\n",
            "  [0. 0. 0. 0. 0. 0.]\n",
            "  [0. 0. 0. 0. 0. 0.]]]\n",
            "[[[0. 0. 0. 0. 0. 0.]\n",
            "  [0. 0. 0. 0. 0. 0.]\n",
            "  [0. 0. 0. 0. 0. 0.]\n",
            "  [0. 0. 0. 0. 0. 0.]]]\n",
            "[[[0. 0. 0. 0. 0. 0.]\n",
            "  [0. 0. 0. 0. 0. 0.]\n",
            "  [0. 0. 0. 0. 0. 0.]\n",
            "  [0. 0. 0. 0. 0. 0.]\n",
            "  [0. 0. 0. 0. 0. 0.]]]\n",
            "[[[0. 0. 0. 0. 0. 0.]\n",
            "  [0. 0. 0. 0. 0. 0.]\n",
            "  [0. 0. 0. 0. 0. 0.]\n",
            "  [0. 0. 0. 0. 0. 0.]\n",
            "  [0. 0. 0. 0. 0. 0.]\n",
            "  [0. 0. 0. 0. 0. 0.]]]\n",
            "[[[0. 0. 0. 0. 0. 0.]\n",
            "  [0. 0. 0. 0. 0. 0.]\n",
            "  [0. 0. 0. 0. 0. 0.]\n",
            "  [0. 0. 0. 0. 0. 0.]\n",
            "  [0. 0. 0. 0. 0. 0.]\n",
            "  [0. 0. 0. 0. 0. 0.]\n",
            "  [0. 0. 0. 0. 0. 0.]]]\n"
          ]
        },
        {
          "output_type": "execute_result",
          "data": {
            "text/plain": [
              "'edgement'"
            ],
            "application/vnd.google.colaboratory.intrinsic+json": {
              "type": "string"
            }
          },
          "metadata": {},
          "execution_count": 708
        }
      ]
    },
    {
      "cell_type": "code",
      "source": [
        "import matplotlib.pyplot as plt "
      ],
      "metadata": {
        "id": "75YY9HcEva8Y"
      },
      "execution_count": 709,
      "outputs": []
    },
    {
      "cell_type": "code",
      "source": [
        "import torch\n",
        "\n",
        "tensor1 = torch.tensor(all_losses_1,requires_grad=True)\n",
        "tensor1 = tensor1.detach().numpy()\n"
      ],
      "metadata": {
        "id": "CUt8uOeuvd6M"
      },
      "execution_count": 710,
      "outputs": []
    },
    {
      "cell_type": "code",
      "source": [
        "import torch\n",
        "\n",
        "tensor2 = torch.tensor(all_losses_2,requires_grad=True)\n",
        "tensor2 = tensor2.detach().numpy()\n"
      ],
      "metadata": {
        "id": "TjygbqnUfHXi"
      },
      "execution_count": 711,
      "outputs": []
    },
    {
      "cell_type": "code",
      "source": [
        "import torch\n",
        "\n",
        "tensor3 = torch.tensor(all_losses_3,requires_grad=True)\n",
        "tensor3 = tensor3.detach().numpy()\n"
      ],
      "metadata": {
        "id": "-puorOQAfKIa"
      },
      "execution_count": 712,
      "outputs": []
    },
    {
      "cell_type": "code",
      "source": [
        "plt.figure(figsize=(8,8))\n",
        "plt.title(\"Loss vs epoch with RMSprop\")\n",
        "plt.plot(ep,tensor1, label = \"loss(lr=0.01)\")\n",
        "plt.plot(ep,tensor2, label =\"loss(lr=0.001)\")\n",
        "plt.plot(ep,tensor3,label =\"loss(lr=0.4)\")\n",
        "plt.xlabel(\"Epochs\")\n",
        "plt.legend()\n",
        "plt.ylabel(\"Losses\")\n",
        "plt.show()"
      ],
      "metadata": {
        "colab": {
          "base_uri": "https://localhost:8080/",
          "height": 513
        },
        "id": "oqeRg_wxvioZ",
        "outputId": "c55f620c-7436-4975-a9ed-aca818467f7f"
      },
      "execution_count": 713,
      "outputs": [
        {
          "output_type": "display_data",
          "data": {
            "text/plain": [
              "<Figure size 576x576 with 1 Axes>"
            ],
            "image/png": "[encoded data removed]"
          },
          "metadata": {
            "needs_background": "light"
          }
        }
      ]
    },
    {
      "cell_type": "code",
      "source": [
        "all_losses_1"
      ],
      "metadata": {
        "colab": {
          "base_uri": "https://localhost:8080/"
        },
        "id": "ygUUeblReVY9",
        "outputId": "ed10e98f-ae43-4ec2-edb1-3fbf2062c41c"
      },
      "execution_count": 714,
      "outputs": [
        {
          "output_type": "execute_result",
          "data": {
            "text/plain": [
              "[tensor(1.7216, grad_fn=<NllLossBackward0>),\n",
              " tensor(1.6518, grad_fn=<NllLossBackward0>),\n",
              " tensor(1.5729, grad_fn=<NllLossBackward0>),\n",
              " tensor(1.4850, grad_fn=<NllLossBackward0>),\n",
              " tensor(1.3930, grad_fn=<NllLossBackward0>),\n",
              " tensor(1.3007, grad_fn=<NllLossBackward0>),\n",
              " tensor(1.2089, grad_fn=<NllLossBackward0>),\n",
              " tensor(1.1186, grad_fn=<NllLossBackward0>),\n",
              " tensor(1.0322, grad_fn=<NllLossBackward0>),\n",
              " tensor(0.9502, grad_fn=<NllLossBackward0>),\n",
              " tensor(0.8737, grad_fn=<NllLossBackward0>),\n",
              " tensor(0.8031, grad_fn=<NllLossBackward0>),\n",
              " tensor(0.7391, grad_fn=<NllLossBackward0>),\n",
              " tensor(0.6808, grad_fn=<NllLossBackward0>),\n",
              " tensor(0.6282, grad_fn=<NllLossBackward0>),\n",
              " tensor(0.5807, grad_fn=<NllLossBackward0>),\n",
              " tensor(0.5378, grad_fn=<NllLossBackward0>),\n",
              " tensor(0.4990, grad_fn=<NllLossBackward0>),\n",
              " tensor(0.4639, grad_fn=<NllLossBackward0>),\n",
              " tensor(0.4318, grad_fn=<NllLossBackward0>),\n",
              " tensor(0.4021, grad_fn=<NllLossBackward0>),\n",
              " tensor(0.3744, grad_fn=<NllLossBackward0>),\n",
              " tensor(0.3488, grad_fn=<NllLossBackward0>),\n",
              " tensor(0.3244, grad_fn=<NllLossBackward0>),\n",
              " tensor(0.3019, grad_fn=<NllLossBackward0>),\n",
              " tensor(0.2802, grad_fn=<NllLossBackward0>),\n",
              " tensor(0.2603, grad_fn=<NllLossBackward0>),\n",
              " tensor(0.2410, grad_fn=<NllLossBackward0>),\n",
              " tensor(0.2233, grad_fn=<NllLossBackward0>),\n",
              " tensor(0.2060, grad_fn=<NllLossBackward0>),\n",
              " tensor(0.1902, grad_fn=<NllLossBackward0>),\n",
              " tensor(0.1747, grad_fn=<NllLossBackward0>),\n",
              " tensor(0.1604, grad_fn=<NllLossBackward0>)]"
            ]
          },
          "metadata": {},
          "execution_count": 714
        }
      ]
    },
    {
      "cell_type": "code",
      "source": [
        "all_losses_2"
      ],
      "metadata": {
        "colab": {
          "base_uri": "https://localhost:8080/"
        },
        "id": "fCP9SsX8ennH",
        "outputId": "15d315f6-182a-4d9c-e72a-9695dec0922b"
      },
      "execution_count": 715,
      "outputs": [
        {
          "output_type": "execute_result",
          "data": {
            "text/plain": [
              "[tensor(1.8352, grad_fn=<NllLossBackward0>),\n",
              " tensor(1.8283, grad_fn=<NllLossBackward0>),\n",
              " tensor(1.8215, grad_fn=<NllLossBackward0>),\n",
              " tensor(1.8148, grad_fn=<NllLossBackward0>),\n",
              " tensor(1.8082, grad_fn=<NllLossBackward0>),\n",
              " tensor(1.8016, grad_fn=<NllLossBackward0>),\n",
              " tensor(1.7951, grad_fn=<NllLossBackward0>),\n",
              " tensor(1.7887, grad_fn=<NllLossBackward0>),\n",
              " tensor(1.7823, grad_fn=<NllLossBackward0>),\n",
              " tensor(1.7761, grad_fn=<NllLossBackward0>),\n",
              " tensor(1.7698, grad_fn=<NllLossBackward0>),\n",
              " tensor(1.7637, grad_fn=<NllLossBackward0>),\n",
              " tensor(1.7576, grad_fn=<NllLossBackward0>),\n",
              " tensor(1.7516, grad_fn=<NllLossBackward0>),\n",
              " tensor(1.7456, grad_fn=<NllLossBackward0>),\n",
              " tensor(1.7397, grad_fn=<NllLossBackward0>),\n",
              " tensor(1.7338, grad_fn=<NllLossBackward0>),\n",
              " tensor(1.7279, grad_fn=<NllLossBackward0>),\n",
              " tensor(1.7221, grad_fn=<NllLossBackward0>),\n",
              " tensor(1.7163, grad_fn=<NllLossBackward0>),\n",
              " tensor(1.7106, grad_fn=<NllLossBackward0>),\n",
              " tensor(1.7048, grad_fn=<NllLossBackward0>),\n",
              " tensor(1.6989, grad_fn=<NllLossBackward0>),\n",
              " tensor(1.6930, grad_fn=<NllLossBackward0>),\n",
              " tensor(1.6871, grad_fn=<NllLossBackward0>),\n",
              " tensor(1.6811, grad_fn=<NllLossBackward0>),\n",
              " tensor(1.6751, grad_fn=<NllLossBackward0>),\n",
              " tensor(1.6691, grad_fn=<NllLossBackward0>),\n",
              " tensor(1.6630, grad_fn=<NllLossBackward0>),\n",
              " tensor(1.6569, grad_fn=<NllLossBackward0>),\n",
              " tensor(1.6507, grad_fn=<NllLossBackward0>),\n",
              " tensor(1.6446, grad_fn=<NllLossBackward0>),\n",
              " tensor(1.6384, grad_fn=<NllLossBackward0>)]"
            ]
          },
          "metadata": {},
          "execution_count": 715
        }
      ]
    },
    {
      "cell_type": "code",
      "source": [
        "all_losses_3"
      ],
      "metadata": {
        "colab": {
          "base_uri": "https://localhost:8080/"
        },
        "id": "CZPOSPHae1E0",
        "outputId": "50e2521d-46f4-4e16-9e74-0b7d57a1da2e"
      },
      "execution_count": 716,
      "outputs": [
        {
          "output_type": "execute_result",
          "data": {
            "text/plain": [
              "[tensor(1.8898, grad_fn=<NllLossBackward0>),\n",
              " tensor(0.4998, grad_fn=<NllLossBackward0>),\n",
              " tensor(0.3467, grad_fn=<NllLossBackward0>),\n",
              " tensor(0.1721, grad_fn=<NllLossBackward0>),\n",
              " tensor(0.0273, grad_fn=<NllLossBackward0>),\n",
              " tensor(0.0106, grad_fn=<NllLossBackward0>),\n",
              " tensor(0.2162, grad_fn=<NllLossBackward0>),\n",
              " tensor(0.0102, grad_fn=<NllLossBackward0>),\n",
              " tensor(0.0044, grad_fn=<NllLossBackward0>),\n",
              " tensor(0.0025, grad_fn=<NllLossBackward0>),\n",
              " tensor(0.0014, grad_fn=<NllLossBackward0>),\n",
              " tensor(0.0006, grad_fn=<NllLossBackward0>),\n",
              " tensor(0.0003, grad_fn=<NllLossBackward0>),\n",
              " tensor(0.0005, grad_fn=<NllLossBackward0>),\n",
              " tensor(5.6043e-05, grad_fn=<NllLossBackward0>),\n",
              " tensor(2.5153e-05, grad_fn=<NllLossBackward0>),\n",
              " tensor(1.2977e-05, grad_fn=<NllLossBackward0>),\n",
              " tensor(5.9945e-06, grad_fn=<NllLossBackward0>),\n",
              " tensor(2.4864e-06, grad_fn=<NllLossBackward0>),\n",
              " tensor(9.1961e-07, grad_fn=<NllLossBackward0>),\n",
              " tensor(3.9169e-07, grad_fn=<NllLossBackward0>),\n",
              " tensor(1.5327e-07, grad_fn=<NllLossBackward0>),\n",
              " tensor(6.8120e-08, grad_fn=<NllLossBackward0>),\n",
              " tensor(0.0002, grad_fn=<NllLossBackward0>),\n",
              " tensor(6.8120e-08, grad_fn=<NllLossBackward0>),\n",
              " tensor(5.1090e-08, grad_fn=<NllLossBackward0>),\n",
              " tensor(3.4060e-08, grad_fn=<NllLossBackward0>),\n",
              " tensor(0., grad_fn=<NllLossBackward0>),\n",
              " tensor(0., grad_fn=<NllLossBackward0>),\n",
              " tensor(0., grad_fn=<NllLossBackward0>),\n",
              " tensor(0., grad_fn=<NllLossBackward0>),\n",
              " tensor(1.7030e-08, grad_fn=<NllLossBackward0>),\n",
              " tensor(0., grad_fn=<NllLossBackward0>)]"
            ]
          },
          "metadata": {},
          "execution_count": 716
        }
      ]
    }
  ]
}