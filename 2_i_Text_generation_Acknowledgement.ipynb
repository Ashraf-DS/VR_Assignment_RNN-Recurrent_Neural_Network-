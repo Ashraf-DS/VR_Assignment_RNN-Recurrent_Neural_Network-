{
  "nbformat": 4,
  "nbformat_minor": 0,
  "metadata": {
    "colab": {
      "name": "Text_generation_Acknowledgement_2A.ipynb",
      "provenance": [],
      "collapsed_sections": []
    },
    "kernelspec": {
      "name": "python3",
      "display_name": "Python 3"
    },
    "language_info": {
      "name": "python"
    }
  },
  "cells": [
    {
      "cell_type": "code",
      "execution_count": 392,
      "metadata": {
        "id": "DLQxGXaWU3YV"
      },
      "outputs": [],
      "source": [
        "import torch\n",
        "from torch import nn\n",
        "import numpy as np\n",
        "import matplotlib.pyplot as plt\n"
      ]
    },
    {
      "cell_type": "code",
      "source": [
        "text = ['Acknowledgement']\n",
        "\n",
        "# Join all the sentences together and extract the unique characters from the combined sentences\n",
        "chars = set(''.join(text))\n",
        "\n",
        "# Creating a dictionary that maps integers to the characters\n",
        "int2char = dict(enumerate(chars))\n",
        "\n",
        "# Creating another dictionary that maps characters to integers\n",
        "char2int = {char: ind for ind, char in int2char.items()}"
      ],
      "metadata": {
        "id": "MYXs5eZhVwmH"
      },
      "execution_count": 393,
      "outputs": []
    },
    {
      "cell_type": "code",
      "source": [
        "int2char.items()"
      ],
      "metadata": {
        "colab": {
          "base_uri": "https://localhost:8080/"
        },
        "id": "eGCCygIT8R_8",
        "outputId": "6dccd413-f408-4e77-dcc0-3aa30a07e055"
      },
      "execution_count": 394,
      "outputs": [
        {
          "output_type": "execute_result",
          "data": {
            "text/plain": [
              "dict_items([(0, 'k'), (1, 'e'), (2, 'g'), (3, 'm'), (4, 'o'), (5, 'l'), (6, 't'), (7, 'A'), (8, 'w'), (9, 'n'), (10, 'd'), (11, 'c')])"
            ]
          },
          "metadata": {},
          "execution_count": 394
        }
      ]
    },
    {
      "cell_type": "code",
      "source": [
        "print(int2char)"
      ],
      "metadata": {
        "colab": {
          "base_uri": "https://localhost:8080/"
        },
        "id": "-OYEZbQ27yKZ",
        "outputId": "aa9e0855-7f84-4d27-c839-6757c88aba89"
      },
      "execution_count": 395,
      "outputs": [
        {
          "output_type": "stream",
          "name": "stdout",
          "text": [
            "{0: 'k', 1: 'e', 2: 'g', 3: 'm', 4: 'o', 5: 'l', 6: 't', 7: 'A', 8: 'w', 9: 'n', 10: 'd', 11: 'c'}\n"
          ]
        }
      ]
    },
    {
      "cell_type": "code",
      "source": [
        "print(char2int)"
      ],
      "metadata": {
        "colab": {
          "base_uri": "https://localhost:8080/"
        },
        "id": "kvore-SJxQ6L",
        "outputId": "0a48da5f-d471-4705-9e77-ca42aa006d61"
      },
      "execution_count": 396,
      "outputs": [
        {
          "output_type": "stream",
          "name": "stdout",
          "text": [
            "{'k': 0, 'e': 1, 'g': 2, 'm': 3, 'o': 4, 'l': 5, 't': 6, 'A': 7, 'w': 8, 'n': 9, 'd': 10, 'c': 11}\n"
          ]
        }
      ]
    },
    {
      "cell_type": "code",
      "source": [
        "len(char2int)"
      ],
      "metadata": {
        "colab": {
          "base_uri": "https://localhost:8080/"
        },
        "id": "mAILHRwaBNWt",
        "outputId": "78db4ad0-d7b3-4cb5-c20f-a6f0a1a5c154"
      },
      "execution_count": 397,
      "outputs": [
        {
          "output_type": "execute_result",
          "data": {
            "text/plain": [
              "12"
            ]
          },
          "metadata": {},
          "execution_count": 397
        }
      ]
    },
    {
      "cell_type": "code",
      "source": [
        "maxlen = len(max(text, key=len))\n"
      ],
      "metadata": {
        "id": "IgKsSY1Bybkt"
      },
      "execution_count": 398,
      "outputs": []
    },
    {
      "cell_type": "code",
      "source": [
        "##### Creating the  lists that will hold our input and target sequences\n",
        "input_seq = []\n",
        "target_seq = []\n",
        "\n",
        "for i in range(len(text)):\n",
        "    # Remove the  last character for input sequence\n",
        "  input_seq.append(text[i][:-1])\n",
        "    \n",
        "    # Remove the first character for target sequence\n",
        "  target_seq.append(text[i][1:])\n",
        "\n",
        "  print(\"Input Sequence: {}\\nTarget Sequence: {}\".format(input_seq[i], target_seq[i]))"
      ],
      "metadata": {
        "colab": {
          "base_uri": "https://localhost:8080/"
        },
        "id": "0eR9RLPhxXnO",
        "outputId": "016f7bbe-5601-4e39-b987-6ae57876ad95"
      },
      "execution_count": 399,
      "outputs": [
        {
          "output_type": "stream",
          "name": "stdout",
          "text": [
            "Input Sequence: Acknowledgemen\n",
            "Target Sequence: cknowledgement\n"
          ]
        }
      ]
    },
    {
      "cell_type": "code",
      "source": [
        "for i in range(len(text)):\n",
        "    input_seq[i] = [char2int[character] for character in input_seq[i]]\n",
        "    print(input_seq[i])\n",
        "    target_seq[i] = [char2int[character] for character in target_seq[i]]\n",
        "    print(target_seq[i])"
      ],
      "metadata": {
        "id": "f-UDWGRwxztt",
        "colab": {
          "base_uri": "https://localhost:8080/"
        },
        "outputId": "619b1395-56bb-4b41-fb86-7011a85b58f9"
      },
      "execution_count": 400,
      "outputs": [
        {
          "output_type": "stream",
          "name": "stdout",
          "text": [
            "[7, 11, 0, 9, 4, 8, 5, 1, 10, 2, 1, 3, 1, 9]\n",
            "[11, 0, 9, 4, 8, 5, 1, 10, 2, 1, 3, 1, 9, 6]\n"
          ]
        }
      ]
    },
    {
      "cell_type": "code",
      "source": [
        "for i in range(len(text)):\n",
        "    print(\"Input Sequence: {}\\nTarget Sequence: {}\".format(input_seq[i], target_seq[i]))"
      ],
      "metadata": {
        "colab": {
          "base_uri": "https://localhost:8080/"
        },
        "id": "shWqQ36Rx5Q6",
        "outputId": "96a85d18-be82-450f-aa01-7d43959f8417"
      },
      "execution_count": 401,
      "outputs": [
        {
          "output_type": "stream",
          "name": "stdout",
          "text": [
            "Input Sequence: [7, 11, 0, 9, 4, 8, 5, 1, 10, 2, 1, 3, 1, 9]\n",
            "Target Sequence: [11, 0, 9, 4, 8, 5, 1, 10, 2, 1, 3, 1, 9, 6]\n"
          ]
        }
      ]
    },
    {
      "cell_type": "code",
      "source": [
        "dict_size = len(char2int)    ##########   Dictionary size :- The number of unique characters that we have in our text \n",
        "print(dict_size)\n",
        "seq_len = maxlen - 1         ##########   The length of the sequences that we are feeding into the model \n",
        "print(seq_len)\n",
        "batch_size = len(text)       ##########   The number of sentences that we defined and are going to feed into the model as a batch\n",
        "print(batch_size)\n"
      ],
      "metadata": {
        "colab": {
          "base_uri": "https://localhost:8080/"
        },
        "id": "jGYyMD_2ggyT",
        "outputId": "c4928003-077f-45b2-a7f1-eaa582f729e7"
      },
      "execution_count": 402,
      "outputs": [
        {
          "output_type": "stream",
          "name": "stdout",
          "text": [
            "12\n",
            "14\n",
            "1\n"
          ]
        }
      ]
    },
    {
      "cell_type": "code",
      "source": [
        "dict_size = len(char2int)\n",
        "seq_len = maxlen - 1\n",
        "batch_size = len(text)\n",
        "\n",
        "def one_hot_encode(sequence, dict_size, seq_len, batch_size):\n",
        "    #######   Creating a multi-dimensional array of zeros with the desired output shape\n",
        "\n",
        "    \n",
        "    features = np.zeros((batch_size, seq_len, dict_size), dtype=np.float32)\n",
        "    print(features)\n",
        "    \n",
        "    ######### Replacing the 0 at the relevant character index with a 1 to represent that character\n",
        "\n",
        "\n",
        "    for i in range(batch_size):\n",
        "        for u in range(seq_len):\n",
        "            features[i, u, sequence[i][u]] = 1\n",
        "    return features"
      ],
      "metadata": {
        "id": "mBDmP7UGyAQp"
      },
      "execution_count": 403,
      "outputs": []
    },
    {
      "cell_type": "code",
      "source": [
        ""
      ],
      "metadata": {
        "id": "O0iu4wAFfvkA"
      },
      "execution_count": 403,
      "outputs": []
    },
    {
      "cell_type": "code",
      "source": [
        "input_seq = one_hot_encode(input_seq, dict_size, seq_len, batch_size)"
      ],
      "metadata": {
        "colab": {
          "base_uri": "https://localhost:8080/"
        },
        "id": "zHHmoskyyhhJ",
        "outputId": "0e7c6b24-eb5c-400c-e7f9-225ce714ddd3"
      },
      "execution_count": 404,
      "outputs": [
        {
          "output_type": "stream",
          "name": "stdout",
          "text": [
            "[[[0. 0. 0. 0. 0. 0. 0. 0. 0. 0. 0. 0.]\n",
            "  [0. 0. 0. 0. 0. 0. 0. 0. 0. 0. 0. 0.]\n",
            "  [0. 0. 0. 0. 0. 0. 0. 0. 0. 0. 0. 0.]\n",
            "  [0. 0. 0. 0. 0. 0. 0. 0. 0. 0. 0. 0.]\n",
            "  [0. 0. 0. 0. 0. 0. 0. 0. 0. 0. 0. 0.]\n",
            "  [0. 0. 0. 0. 0. 0. 0. 0. 0. 0. 0. 0.]\n",
            "  [0. 0. 0. 0. 0. 0. 0. 0. 0. 0. 0. 0.]\n",
            "  [0. 0. 0. 0. 0. 0. 0. 0. 0. 0. 0. 0.]\n",
            "  [0. 0. 0. 0. 0. 0. 0. 0. 0. 0. 0. 0.]\n",
            "  [0. 0. 0. 0. 0. 0. 0. 0. 0. 0. 0. 0.]\n",
            "  [0. 0. 0. 0. 0. 0. 0. 0. 0. 0. 0. 0.]\n",
            "  [0. 0. 0. 0. 0. 0. 0. 0. 0. 0. 0. 0.]\n",
            "  [0. 0. 0. 0. 0. 0. 0. 0. 0. 0. 0. 0.]\n",
            "  [0. 0. 0. 0. 0. 0. 0. 0. 0. 0. 0. 0.]]]\n"
          ]
        }
      ]
    },
    {
      "cell_type": "code",
      "source": [
        "print(input_seq)"
      ],
      "metadata": {
        "colab": {
          "base_uri": "https://localhost:8080/"
        },
        "id": "k2eLH_0Byu3B",
        "outputId": "b5131a4b-70b1-495f-9ee3-121d99fc9bcb"
      },
      "execution_count": 405,
      "outputs": [
        {
          "output_type": "stream",
          "name": "stdout",
          "text": [
            "[[[0. 0. 0. 0. 0. 0. 0. 1. 0. 0. 0. 0.]\n",
            "  [0. 0. 0. 0. 0. 0. 0. 0. 0. 0. 0. 1.]\n",
            "  [1. 0. 0. 0. 0. 0. 0. 0. 0. 0. 0. 0.]\n",
            "  [0. 0. 0. 0. 0. 0. 0. 0. 0. 1. 0. 0.]\n",
            "  [0. 0. 0. 0. 1. 0. 0. 0. 0. 0. 0. 0.]\n",
            "  [0. 0. 0. 0. 0. 0. 0. 0. 1. 0. 0. 0.]\n",
            "  [0. 0. 0. 0. 0. 1. 0. 0. 0. 0. 0. 0.]\n",
            "  [0. 1. 0. 0. 0. 0. 0. 0. 0. 0. 0. 0.]\n",
            "  [0. 0. 0. 0. 0. 0. 0. 0. 0. 0. 1. 0.]\n",
            "  [0. 0. 1. 0. 0. 0. 0. 0. 0. 0. 0. 0.]\n",
            "  [0. 1. 0. 0. 0. 0. 0. 0. 0. 0. 0. 0.]\n",
            "  [0. 0. 0. 1. 0. 0. 0. 0. 0. 0. 0. 0.]\n",
            "  [0. 1. 0. 0. 0. 0. 0. 0. 0. 0. 0. 0.]\n",
            "  [0. 0. 0. 0. 0. 0. 0. 0. 0. 1. 0. 0.]]]\n"
          ]
        }
      ]
    },
    {
      "cell_type": "code",
      "source": [
        "\n",
        "######  we can now move the data from NumPy arrays to PyTorch's very own data structure that is  Torch Tensors.\n",
        "\n",
        "input_seq = torch.from_numpy(input_seq)  \n",
        "target_seq = torch.Tensor(target_seq)"
      ],
      "metadata": {
        "id": "NSOYWPHGy22a"
      },
      "execution_count": 406,
      "outputs": []
    },
    {
      "cell_type": "code",
      "source": [
        "#### torch.cuda.is_available() checks and returns a Boolean True if a GPU is available, else it will return False\n",
        "\n",
        "is_cuda = torch.cuda.is_available()\n",
        "\n",
        "###  If we have a GPU available, we will set our device to GPU \n",
        "###  but here since training data is so small so i am using only CPU here\n",
        "\n",
        "if is_cuda:\n",
        "    device = torch.device(\"cuda\")\n",
        "    print(\"GPU is available\")\n",
        "else:\n",
        "    device = torch.device(\"cpu\")\n",
        "    print(\"GPU not available, CPU used\")"
      ],
      "metadata": {
        "colab": {
          "base_uri": "https://localhost:8080/"
        },
        "id": "KHMsu6g6y7yg",
        "outputId": "8124b4b3-19e4-4d82-de2b-13ef28d9cf3f"
      },
      "execution_count": 407,
      "outputs": [
        {
          "output_type": "stream",
          "name": "stdout",
          "text": [
            "GPU not available, CPU used\n"
          ]
        }
      ]
    },
    {
      "cell_type": "code",
      "source": [
        "\n",
        "class Model(nn.Module):\n",
        "    def __init__(self, input_size, output_size, hidden_dim, n_layers):\n",
        "        super(Model, self).__init__()\n",
        "\n",
        "        #### Defining some parameters\n",
        "        self.hidden_dim = hidden_dim\n",
        "        self.n_layers = n_layers\n",
        "\n",
        "        #### Defining the layers\n",
        "        ###  RNN Layer\n",
        "\n",
        "        self.rnn = nn.RNN(input_size, hidden_dim, n_layers, batch_first=True)\n",
        "\n",
        "        ### Fully connected layer\n",
        "        self.fc = nn.Linear(hidden_dim, output_size)\n",
        "    \n",
        "    def forward(self, x):   ######## defining the forward pass function\n",
        "        \n",
        "        batch_size = x.size(0)\n",
        "\n",
        "        ####### Initializing hidden state for first input using method defined below\n",
        "        hidden = self.init_hidden(batch_size)\n",
        "\n",
        "        #####  Passing in the input and hidden state into the model and obtaining outputs\n",
        "        out, hidden = self.rnn(x, hidden)\n",
        "        \n",
        "        ###### Reshaping the outputs such that it can be fit into the fully connected layer\n",
        "        out = out.contiguous().view(-1, self.hidden_dim)\n",
        "        out = self.fc(out)\n",
        "        \n",
        "        return out, hidden\n",
        "    \n",
        "    def init_hidden(self, batch_size):    #######  This basically creates a tensor of zeros in the shape of our hidden states.\n",
        "        ## This method generates the first hidden state of zeros which we will use in the forward pass\n",
        "        ## We will send the tensor holding the hidden state to the device we specified earlier as well\n",
        "        hidden = torch.zeros(self.n_layers, batch_size, self.hidden_dim)\n",
        "        return hidden"
      ],
      "metadata": {
        "id": "Fb_XiGE8zBzO"
      },
      "execution_count": 408,
      "outputs": []
    },
    {
      "cell_type": "code",
      "source": [
        "# Instantiate the model with hyperparameters\n",
        "model = Model(input_size=dict_size, output_size=dict_size, hidden_dim=15, n_layers=1)\n",
        "# We'll also set the model to the device that we defined earlier (default is CPU)\n",
        "model.to(device)\n",
        "\n",
        "#### Defining the  hyperparameters\n",
        "\n",
        "n_epochs =1000  ## number of epochs \n",
        "lr=0.002         ## learning rate \n",
        "\n",
        "\n",
        "###### Define Loss, Optimizer\n",
        "############################################### Adam optimizer #####################################\n",
        "\n",
        "\n",
        "criterion = nn.CrossEntropyLoss()\n",
        "optimizer = torch.optim.Adam(model.parameters(), lr=lr)  ##### we are using here Adam optimizer \n"
      ],
      "metadata": {
        "id": "0wYZfT-UzKbB"
      },
      "execution_count": 409,
      "outputs": []
    },
    {
      "cell_type": "code",
      "source": [
        "# Training Run\n",
        "all_losses = [] ##### initializing list of all_losses to maintain all losses inside it .\n",
        "ep = []         #### initializing list ep to maintain all the corresponding epochs \n",
        "##total_loss = 0 # Reset every plot_every iters\n",
        "\n",
        "for epoch in range(1, n_epochs + 1):\n",
        "    optimizer.zero_grad() ######  Clears existing gradients from previous epoch\n",
        "    input_seq.to(device)\n",
        "    output, hidden = model(input_seq)\n",
        "    loss = criterion(output, target_seq.view(-1).long())\n",
        "    loss.backward()     ######## Does backpropagation and calculates gradients\n",
        "    optimizer.step()    ######### Updates the weights accordingly\n",
        "    \n",
        "    \n",
        "    \n",
        "    if epoch%10 == 0:\n",
        "        print('Epoch: {}/{}.............'.format(epoch, n_epochs), end=' ')\n",
        "        print(\"Loss: {:.4f}\".format(loss.item()))\n",
        "        ep.append(epoch)\n",
        "        all_losses.append(loss)\n"
      ],
      "metadata": {
        "id": "AGkOwJHizOn7",
        "colab": {
          "base_uri": "https://localhost:8080/"
        },
        "outputId": "9d121570-c409-4170-dcff-2e50803a6075"
      },
      "execution_count": 410,
      "outputs": [
        {
          "output_type": "stream",
          "name": "stdout",
          "text": [
            "Epoch: 10/1000............. Loss: 2.4069\n",
            "Epoch: 20/1000............. Loss: 2.2912\n",
            "Epoch: 30/1000............. Loss: 2.1595\n",
            "Epoch: 40/1000............. Loss: 1.9906\n",
            "Epoch: 50/1000............. Loss: 1.7830\n",
            "Epoch: 60/1000............. Loss: 1.5733\n",
            "Epoch: 70/1000............. Loss: 1.3738\n",
            "Epoch: 80/1000............. Loss: 1.1856\n",
            "Epoch: 90/1000............. Loss: 1.0118\n",
            "Epoch: 100/1000............. Loss: 0.8572\n",
            "Epoch: 110/1000............. Loss: 0.7244\n",
            "Epoch: 120/1000............. Loss: 0.6123\n",
            "Epoch: 130/1000............. Loss: 0.5184\n",
            "Epoch: 140/1000............. Loss: 0.4399\n",
            "Epoch: 150/1000............. Loss: 0.3744\n",
            "Epoch: 160/1000............. Loss: 0.3201\n",
            "Epoch: 170/1000............. Loss: 0.2752\n",
            "Epoch: 180/1000............. Loss: 0.2382\n",
            "Epoch: 190/1000............. Loss: 0.2076\n",
            "Epoch: 200/1000............. Loss: 0.1823\n",
            "Epoch: 210/1000............. Loss: 0.1613\n",
            "Epoch: 220/1000............. Loss: 0.1436\n",
            "Epoch: 230/1000............. Loss: 0.1287\n",
            "Epoch: 240/1000............. Loss: 0.1161\n",
            "Epoch: 250/1000............. Loss: 0.1053\n",
            "Epoch: 260/1000............. Loss: 0.0959\n",
            "Epoch: 270/1000............. Loss: 0.0878\n",
            "Epoch: 280/1000............. Loss: 0.0808\n",
            "Epoch: 290/1000............. Loss: 0.0745\n",
            "Epoch: 300/1000............. Loss: 0.0691\n",
            "Epoch: 310/1000............. Loss: 0.0642\n",
            "Epoch: 320/1000............. Loss: 0.0598\n",
            "Epoch: 330/1000............. Loss: 0.0559\n",
            "Epoch: 340/1000............. Loss: 0.0524\n",
            "Epoch: 350/1000............. Loss: 0.0493\n",
            "Epoch: 360/1000............. Loss: 0.0464\n",
            "Epoch: 370/1000............. Loss: 0.0438\n",
            "Epoch: 380/1000............. Loss: 0.0414\n",
            "Epoch: 390/1000............. Loss: 0.0392\n",
            "Epoch: 400/1000............. Loss: 0.0372\n",
            "Epoch: 410/1000............. Loss: 0.0353\n",
            "Epoch: 420/1000............. Loss: 0.0336\n",
            "Epoch: 430/1000............. Loss: 0.0321\n",
            "Epoch: 440/1000............. Loss: 0.0306\n",
            "Epoch: 450/1000............. Loss: 0.0292\n",
            "Epoch: 460/1000............. Loss: 0.0280\n",
            "Epoch: 470/1000............. Loss: 0.0268\n",
            "Epoch: 480/1000............. Loss: 0.0257\n",
            "Epoch: 490/1000............. Loss: 0.0247\n",
            "Epoch: 500/1000............. Loss: 0.0237\n",
            "Epoch: 510/1000............. Loss: 0.0228\n",
            "Epoch: 520/1000............. Loss: 0.0219\n",
            "Epoch: 530/1000............. Loss: 0.0211\n",
            "Epoch: 540/1000............. Loss: 0.0204\n",
            "Epoch: 550/1000............. Loss: 0.0197\n",
            "Epoch: 560/1000............. Loss: 0.0190\n",
            "Epoch: 570/1000............. Loss: 0.0184\n",
            "Epoch: 580/1000............. Loss: 0.0178\n",
            "Epoch: 590/1000............. Loss: 0.0172\n",
            "Epoch: 600/1000............. Loss: 0.0166\n",
            "Epoch: 610/1000............. Loss: 0.0161\n",
            "Epoch: 620/1000............. Loss: 0.0156\n",
            "Epoch: 630/1000............. Loss: 0.0152\n",
            "Epoch: 640/1000............. Loss: 0.0147\n",
            "Epoch: 650/1000............. Loss: 0.0143\n",
            "Epoch: 660/1000............. Loss: 0.0139\n",
            "Epoch: 670/1000............. Loss: 0.0135\n",
            "Epoch: 680/1000............. Loss: 0.0131\n",
            "Epoch: 690/1000............. Loss: 0.0128\n",
            "Epoch: 700/1000............. Loss: 0.0124\n",
            "Epoch: 710/1000............. Loss: 0.0121\n",
            "Epoch: 720/1000............. Loss: 0.0118\n",
            "Epoch: 730/1000............. Loss: 0.0115\n",
            "Epoch: 740/1000............. Loss: 0.0112\n",
            "Epoch: 750/1000............. Loss: 0.0109\n",
            "Epoch: 760/1000............. Loss: 0.0106\n",
            "Epoch: 770/1000............. Loss: 0.0104\n",
            "Epoch: 780/1000............. Loss: 0.0101\n",
            "Epoch: 790/1000............. Loss: 0.0099\n",
            "Epoch: 800/1000............. Loss: 0.0097\n",
            "Epoch: 810/1000............. Loss: 0.0095\n",
            "Epoch: 820/1000............. Loss: 0.0092\n",
            "Epoch: 830/1000............. Loss: 0.0090\n",
            "Epoch: 840/1000............. Loss: 0.0088\n",
            "Epoch: 850/1000............. Loss: 0.0086\n",
            "Epoch: 860/1000............. Loss: 0.0085\n",
            "Epoch: 870/1000............. Loss: 0.0083\n",
            "Epoch: 880/1000............. Loss: 0.0081\n",
            "Epoch: 890/1000............. Loss: 0.0079\n",
            "Epoch: 900/1000............. Loss: 0.0078\n",
            "Epoch: 910/1000............. Loss: 0.0076\n",
            "Epoch: 920/1000............. Loss: 0.0075\n",
            "Epoch: 930/1000............. Loss: 0.0073\n",
            "Epoch: 940/1000............. Loss: 0.0072\n",
            "Epoch: 950/1000............. Loss: 0.0070\n",
            "Epoch: 960/1000............. Loss: 0.0069\n",
            "Epoch: 970/1000............. Loss: 0.0068\n",
            "Epoch: 980/1000............. Loss: 0.0067\n",
            "Epoch: 990/1000............. Loss: 0.0065\n",
            "Epoch: 1000/1000............. Loss: 0.0064\n"
          ]
        }
      ]
    },
    {
      "cell_type": "code",
      "source": [
        "# This function takes in the model and character as arguments and returns the next character prediction and hidden state\n",
        "def predict(model, character):\n",
        "    ##### One-hot encoding our input to fit into the model\n",
        "    character = np.array([[char2int[c] for c in character]])\n",
        "    character = one_hot_encode(character, dict_size, character.shape[1], 1)\n",
        "    character = torch.from_numpy(character)\n",
        "    character.to(device)\n",
        "    \n",
        "    out, hidden = model(character)\n",
        "\n",
        "    prob = nn.functional.softmax(out[-1], dim=0).data\n",
        "    \n",
        "    #### Taking the class with the highest probability score from the output\n",
        "    char_ind = torch.max(prob, dim=0)[1].item()\n",
        "\n",
        "    return int2char[char_ind], hidden"
      ],
      "metadata": {
        "id": "iBG_eCTRzh3z"
      },
      "execution_count": 411,
      "outputs": []
    },
    {
      "cell_type": "code",
      "source": [
        "##### This  output function takes the desired output length and input characters as arguments and returns the produced word\n",
        "\n",
        "def output(model, out_len, start):\n",
        "    model.eval() \n",
        "\n",
        "    ##### First off, run through the starting characters\n",
        "    chars = [ch for ch in start]\n",
        "    size = out_len - len(chars)\n",
        "    \n",
        "    ##### Now pass in the previous characters and get a new one\n",
        "    for i in range(size):\n",
        "        char, h = predict(model, chars)\n",
        "        chars.append(char)\n",
        "\n",
        "    return ''.join(chars)"
      ],
      "metadata": {
        "id": "SPmooAN4zUcp"
      },
      "execution_count": 412,
      "outputs": []
    },
    {
      "cell_type": "code",
      "source": [
        "output(model, 15, 'A')"
      ],
      "metadata": {
        "colab": {
          "base_uri": "https://localhost:8080/",
          "height": 1000
        },
        "id": "F2Hyg3F4zZA5",
        "outputId": "b194c430-28a9-4c51-dd10-83c1a7e711e9"
      },
      "execution_count": 413,
      "outputs": [
        {
          "output_type": "stream",
          "name": "stdout",
          "text": [
            "[[[0. 0. 0. 0. 0. 0. 0. 0. 0. 0. 0. 0.]]]\n",
            "[[[0. 0. 0. 0. 0. 0. 0. 0. 0. 0. 0. 0.]\n",
            "  [0. 0. 0. 0. 0. 0. 0. 0. 0. 0. 0. 0.]]]\n",
            "[[[0. 0. 0. 0. 0. 0. 0. 0. 0. 0. 0. 0.]\n",
            "  [0. 0. 0. 0. 0. 0. 0. 0. 0. 0. 0. 0.]\n",
            "  [0. 0. 0. 0. 0. 0. 0. 0. 0. 0. 0. 0.]]]\n",
            "[[[0. 0. 0. 0. 0. 0. 0. 0. 0. 0. 0. 0.]\n",
            "  [0. 0. 0. 0. 0. 0. 0. 0. 0. 0. 0. 0.]\n",
            "  [0. 0. 0. 0. 0. 0. 0. 0. 0. 0. 0. 0.]\n",
            "  [0. 0. 0. 0. 0. 0. 0. 0. 0. 0. 0. 0.]]]\n",
            "[[[0. 0. 0. 0. 0. 0. 0. 0. 0. 0. 0. 0.]\n",
            "  [0. 0. 0. 0. 0. 0. 0. 0. 0. 0. 0. 0.]\n",
            "  [0. 0. 0. 0. 0. 0. 0. 0. 0. 0. 0. 0.]\n",
            "  [0. 0. 0. 0. 0. 0. 0. 0. 0. 0. 0. 0.]\n",
            "  [0. 0. 0. 0. 0. 0. 0. 0. 0. 0. 0. 0.]]]\n",
            "[[[0. 0. 0. 0. 0. 0. 0. 0. 0. 0. 0. 0.]\n",
            "  [0. 0. 0. 0. 0. 0. 0. 0. 0. 0. 0. 0.]\n",
            "  [0. 0. 0. 0. 0. 0. 0. 0. 0. 0. 0. 0.]\n",
            "  [0. 0. 0. 0. 0. 0. 0. 0. 0. 0. 0. 0.]\n",
            "  [0. 0. 0. 0. 0. 0. 0. 0. 0. 0. 0. 0.]\n",
            "  [0. 0. 0. 0. 0. 0. 0. 0. 0. 0. 0. 0.]]]\n",
            "[[[0. 0. 0. 0. 0. 0. 0. 0. 0. 0. 0. 0.]\n",
            "  [0. 0. 0. 0. 0. 0. 0. 0. 0. 0. 0. 0.]\n",
            "  [0. 0. 0. 0. 0. 0. 0. 0. 0. 0. 0. 0.]\n",
            "  [0. 0. 0. 0. 0. 0. 0. 0. 0. 0. 0. 0.]\n",
            "  [0. 0. 0. 0. 0. 0. 0. 0. 0. 0. 0. 0.]\n",
            "  [0. 0. 0. 0. 0. 0. 0. 0. 0. 0. 0. 0.]\n",
            "  [0. 0. 0. 0. 0. 0. 0. 0. 0. 0. 0. 0.]]]\n",
            "[[[0. 0. 0. 0. 0. 0. 0. 0. 0. 0. 0. 0.]\n",
            "  [0. 0. 0. 0. 0. 0. 0. 0. 0. 0. 0. 0.]\n",
            "  [0. 0. 0. 0. 0. 0. 0. 0. 0. 0. 0. 0.]\n",
            "  [0. 0. 0. 0. 0. 0. 0. 0. 0. 0. 0. 0.]\n",
            "  [0. 0. 0. 0. 0. 0. 0. 0. 0. 0. 0. 0.]\n",
            "  [0. 0. 0. 0. 0. 0. 0. 0. 0. 0. 0. 0.]\n",
            "  [0. 0. 0. 0. 0. 0. 0. 0. 0. 0. 0. 0.]\n",
            "  [0. 0. 0. 0. 0. 0. 0. 0. 0. 0. 0. 0.]]]\n",
            "[[[0. 0. 0. 0. 0. 0. 0. 0. 0. 0. 0. 0.]\n",
            "  [0. 0. 0. 0. 0. 0. 0. 0. 0. 0. 0. 0.]\n",
            "  [0. 0. 0. 0. 0. 0. 0. 0. 0. 0. 0. 0.]\n",
            "  [0. 0. 0. 0. 0. 0. 0. 0. 0. 0. 0. 0.]\n",
            "  [0. 0. 0. 0. 0. 0. 0. 0. 0. 0. 0. 0.]\n",
            "  [0. 0. 0. 0. 0. 0. 0. 0. 0. 0. 0. 0.]\n",
            "  [0. 0. 0. 0. 0. 0. 0. 0. 0. 0. 0. 0.]\n",
            "  [0. 0. 0. 0. 0. 0. 0. 0. 0. 0. 0. 0.]\n",
            "  [0. 0. 0. 0. 0. 0. 0. 0. 0. 0. 0. 0.]]]\n",
            "[[[0. 0. 0. 0. 0. 0. 0. 0. 0. 0. 0. 0.]\n",
            "  [0. 0. 0. 0. 0. 0. 0. 0. 0. 0. 0. 0.]\n",
            "  [0. 0. 0. 0. 0. 0. 0. 0. 0. 0. 0. 0.]\n",
            "  [0. 0. 0. 0. 0. 0. 0. 0. 0. 0. 0. 0.]\n",
            "  [0. 0. 0. 0. 0. 0. 0. 0. 0. 0. 0. 0.]\n",
            "  [0. 0. 0. 0. 0. 0. 0. 0. 0. 0. 0. 0.]\n",
            "  [0. 0. 0. 0. 0. 0. 0. 0. 0. 0. 0. 0.]\n",
            "  [0. 0. 0. 0. 0. 0. 0. 0. 0. 0. 0. 0.]\n",
            "  [0. 0. 0. 0. 0. 0. 0. 0. 0. 0. 0. 0.]\n",
            "  [0. 0. 0. 0. 0. 0. 0. 0. 0. 0. 0. 0.]]]\n",
            "[[[0. 0. 0. 0. 0. 0. 0. 0. 0. 0. 0. 0.]\n",
            "  [0. 0. 0. 0. 0. 0. 0. 0. 0. 0. 0. 0.]\n",
            "  [0. 0. 0. 0. 0. 0. 0. 0. 0. 0. 0. 0.]\n",
            "  [0. 0. 0. 0. 0. 0. 0. 0. 0. 0. 0. 0.]\n",
            "  [0. 0. 0. 0. 0. 0. 0. 0. 0. 0. 0. 0.]\n",
            "  [0. 0. 0. 0. 0. 0. 0. 0. 0. 0. 0. 0.]\n",
            "  [0. 0. 0. 0. 0. 0. 0. 0. 0. 0. 0. 0.]\n",
            "  [0. 0. 0. 0. 0. 0. 0. 0. 0. 0. 0. 0.]\n",
            "  [0. 0. 0. 0. 0. 0. 0. 0. 0. 0. 0. 0.]\n",
            "  [0. 0. 0. 0. 0. 0. 0. 0. 0. 0. 0. 0.]\n",
            "  [0. 0. 0. 0. 0. 0. 0. 0. 0. 0. 0. 0.]]]\n",
            "[[[0. 0. 0. 0. 0. 0. 0. 0. 0. 0. 0. 0.]\n",
            "  [0. 0. 0. 0. 0. 0. 0. 0. 0. 0. 0. 0.]\n",
            "  [0. 0. 0. 0. 0. 0. 0. 0. 0. 0. 0. 0.]\n",
            "  [0. 0. 0. 0. 0. 0. 0. 0. 0. 0. 0. 0.]\n",
            "  [0. 0. 0. 0. 0. 0. 0. 0. 0. 0. 0. 0.]\n",
            "  [0. 0. 0. 0. 0. 0. 0. 0. 0. 0. 0. 0.]\n",
            "  [0. 0. 0. 0. 0. 0. 0. 0. 0. 0. 0. 0.]\n",
            "  [0. 0. 0. 0. 0. 0. 0. 0. 0. 0. 0. 0.]\n",
            "  [0. 0. 0. 0. 0. 0. 0. 0. 0. 0. 0. 0.]\n",
            "  [0. 0. 0. 0. 0. 0. 0. 0. 0. 0. 0. 0.]\n",
            "  [0. 0. 0. 0. 0. 0. 0. 0. 0. 0. 0. 0.]\n",
            "  [0. 0. 0. 0. 0. 0. 0. 0. 0. 0. 0. 0.]]]\n",
            "[[[0. 0. 0. 0. 0. 0. 0. 0. 0. 0. 0. 0.]\n",
            "  [0. 0. 0. 0. 0. 0. 0. 0. 0. 0. 0. 0.]\n",
            "  [0. 0. 0. 0. 0. 0. 0. 0. 0. 0. 0. 0.]\n",
            "  [0. 0. 0. 0. 0. 0. 0. 0. 0. 0. 0. 0.]\n",
            "  [0. 0. 0. 0. 0. 0. 0. 0. 0. 0. 0. 0.]\n",
            "  [0. 0. 0. 0. 0. 0. 0. 0. 0. 0. 0. 0.]\n",
            "  [0. 0. 0. 0. 0. 0. 0. 0. 0. 0. 0. 0.]\n",
            "  [0. 0. 0. 0. 0. 0. 0. 0. 0. 0. 0. 0.]\n",
            "  [0. 0. 0. 0. 0. 0. 0. 0. 0. 0. 0. 0.]\n",
            "  [0. 0. 0. 0. 0. 0. 0. 0. 0. 0. 0. 0.]\n",
            "  [0. 0. 0. 0. 0. 0. 0. 0. 0. 0. 0. 0.]\n",
            "  [0. 0. 0. 0. 0. 0. 0. 0. 0. 0. 0. 0.]\n",
            "  [0. 0. 0. 0. 0. 0. 0. 0. 0. 0. 0. 0.]]]\n",
            "[[[0. 0. 0. 0. 0. 0. 0. 0. 0. 0. 0. 0.]\n",
            "  [0. 0. 0. 0. 0. 0. 0. 0. 0. 0. 0. 0.]\n",
            "  [0. 0. 0. 0. 0. 0. 0. 0. 0. 0. 0. 0.]\n",
            "  [0. 0. 0. 0. 0. 0. 0. 0. 0. 0. 0. 0.]\n",
            "  [0. 0. 0. 0. 0. 0. 0. 0. 0. 0. 0. 0.]\n",
            "  [0. 0. 0. 0. 0. 0. 0. 0. 0. 0. 0. 0.]\n",
            "  [0. 0. 0. 0. 0. 0. 0. 0. 0. 0. 0. 0.]\n",
            "  [0. 0. 0. 0. 0. 0. 0. 0. 0. 0. 0. 0.]\n",
            "  [0. 0. 0. 0. 0. 0. 0. 0. 0. 0. 0. 0.]\n",
            "  [0. 0. 0. 0. 0. 0. 0. 0. 0. 0. 0. 0.]\n",
            "  [0. 0. 0. 0. 0. 0. 0. 0. 0. 0. 0. 0.]\n",
            "  [0. 0. 0. 0. 0. 0. 0. 0. 0. 0. 0. 0.]\n",
            "  [0. 0. 0. 0. 0. 0. 0. 0. 0. 0. 0. 0.]\n",
            "  [0. 0. 0. 0. 0. 0. 0. 0. 0. 0. 0. 0.]]]\n"
          ]
        },
        {
          "output_type": "execute_result",
          "data": {
            "text/plain": [
              "'Acknowledgement'"
            ],
            "application/vnd.google.colaboratory.intrinsic+json": {
              "type": "string"
            }
          },
          "metadata": {},
          "execution_count": 413
        }
      ]
    },
    {
      "cell_type": "code",
      "source": [
        "import matplotlib.pyplot as plt "
      ],
      "metadata": {
        "id": "9UmQNkn_DlRU"
      },
      "execution_count": 414,
      "outputs": []
    },
    {
      "cell_type": "code",
      "source": [
        "\n",
        "# plt.plot(all_losses, ep, marker='o')\n",
        "# plt.xticks(rotation=90)\n",
        "# plt.xlabel(\"Epochs\")\n",
        "# plt.ylabel(\"Loss\")\n",
        "# plt.show()."
      ],
      "metadata": {
        "id": "U3PD-7_kFHJP"
      },
      "execution_count": 415,
      "outputs": []
    },
    {
      "cell_type": "code",
      "source": [
        "import torch\n",
        "\n",
        "tensor1 = torch.tensor(all_losses,requires_grad=True)\n",
        "tensor1 = tensor1.detach().numpy()\n"
      ],
      "metadata": {
        "id": "rkIDAUJ2JwMG"
      },
      "execution_count": 416,
      "outputs": []
    },
    {
      "cell_type": "code",
      "source": [
        "\n",
        "plt.figure(figsize=(10,10))\n",
        "plt.title(\"Loss\")\n",
        "plt.plot(ep,tensor1)\n",
        "plt.xlabel(\"Epochs\")\n",
        "plt.ylabel(\"Loss\")\n",
        "plt.show()"
      ],
      "metadata": {
        "colab": {
          "base_uri": "https://localhost:8080/",
          "height": 621
        },
        "id": "VB4p4XyaDSSw",
        "outputId": "072ecede-572a-4b6e-b4bf-37ed138f6603"
      },
      "execution_count": 417,
      "outputs": [
        {
          "output_type": "display_data",
          "data": {
            "text/plain": [
              "<Figure size 720x720 with 1 Axes>"
            ],
            "image/png": "[encoded data removed]"
          },
          "metadata": {
            "needs_background": "light"
          }
        }
      ]
    },
    {
      "cell_type": "code",
      "source": [
        "output(model , 8, 'e')"
      ],
      "metadata": {
        "colab": {
          "base_uri": "https://localhost:8080/",
          "height": 521
        },
        "id": "pW__G1htzmTC",
        "outputId": "cf4c011f-b484-4411-bb77-af5148da58fc"
      },
      "execution_count": 418,
      "outputs": [
        {
          "output_type": "stream",
          "name": "stdout",
          "text": [
            "[[[0. 0. 0. 0. 0. 0. 0. 0. 0. 0. 0. 0.]]]\n",
            "[[[0. 0. 0. 0. 0. 0. 0. 0. 0. 0. 0. 0.]\n",
            "  [0. 0. 0. 0. 0. 0. 0. 0. 0. 0. 0. 0.]]]\n",
            "[[[0. 0. 0. 0. 0. 0. 0. 0. 0. 0. 0. 0.]\n",
            "  [0. 0. 0. 0. 0. 0. 0. 0. 0. 0. 0. 0.]\n",
            "  [0. 0. 0. 0. 0. 0. 0. 0. 0. 0. 0. 0.]]]\n",
            "[[[0. 0. 0. 0. 0. 0. 0. 0. 0. 0. 0. 0.]\n",
            "  [0. 0. 0. 0. 0. 0. 0. 0. 0. 0. 0. 0.]\n",
            "  [0. 0. 0. 0. 0. 0. 0. 0. 0. 0. 0. 0.]\n",
            "  [0. 0. 0. 0. 0. 0. 0. 0. 0. 0. 0. 0.]]]\n",
            "[[[0. 0. 0. 0. 0. 0. 0. 0. 0. 0. 0. 0.]\n",
            "  [0. 0. 0. 0. 0. 0. 0. 0. 0. 0. 0. 0.]\n",
            "  [0. 0. 0. 0. 0. 0. 0. 0. 0. 0. 0. 0.]\n",
            "  [0. 0. 0. 0. 0. 0. 0. 0. 0. 0. 0. 0.]\n",
            "  [0. 0. 0. 0. 0. 0. 0. 0. 0. 0. 0. 0.]]]\n",
            "[[[0. 0. 0. 0. 0. 0. 0. 0. 0. 0. 0. 0.]\n",
            "  [0. 0. 0. 0. 0. 0. 0. 0. 0. 0. 0. 0.]\n",
            "  [0. 0. 0. 0. 0. 0. 0. 0. 0. 0. 0. 0.]\n",
            "  [0. 0. 0. 0. 0. 0. 0. 0. 0. 0. 0. 0.]\n",
            "  [0. 0. 0. 0. 0. 0. 0. 0. 0. 0. 0. 0.]\n",
            "  [0. 0. 0. 0. 0. 0. 0. 0. 0. 0. 0. 0.]]]\n",
            "[[[0. 0. 0. 0. 0. 0. 0. 0. 0. 0. 0. 0.]\n",
            "  [0. 0. 0. 0. 0. 0. 0. 0. 0. 0. 0. 0.]\n",
            "  [0. 0. 0. 0. 0. 0. 0. 0. 0. 0. 0. 0.]\n",
            "  [0. 0. 0. 0. 0. 0. 0. 0. 0. 0. 0. 0.]\n",
            "  [0. 0. 0. 0. 0. 0. 0. 0. 0. 0. 0. 0.]\n",
            "  [0. 0. 0. 0. 0. 0. 0. 0. 0. 0. 0. 0.]\n",
            "  [0. 0. 0. 0. 0. 0. 0. 0. 0. 0. 0. 0.]]]\n"
          ]
        },
        {
          "output_type": "execute_result",
          "data": {
            "text/plain": [
              "'ecknowle'"
            ],
            "application/vnd.google.colaboratory.intrinsic+json": {
              "type": "string"
            }
          },
          "metadata": {},
          "execution_count": 418
        }
      ]
    },
    {
      "cell_type": "code",
      "source": [
        ""
      ],
      "metadata": {
        "id": "9t8bbjQjmj0w"
      },
      "execution_count": 418,
      "outputs": []
    }
  ]
}